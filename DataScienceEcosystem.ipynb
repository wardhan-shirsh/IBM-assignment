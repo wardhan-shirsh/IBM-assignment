{
 "cells": [
  {
   "cell_type": "markdown",
   "metadata": {},
   "source": [
    "# Data Science Tools and Ecosystem"
   ]
  },
  {
   "cell_type": "markdown",
   "metadata": {},
   "source": [
    "## In this notebook, Data Science Tools and Ecosystem are summarized."
   ]
  },
  {
   "cell_type": "markdown",
   "metadata": {},
   "source": [
    "**Objectives:**\n",
    "- Author\n",
    "- List popular languages for Data Science\n",
    "- List commonly used libraries in Data Scientists\n",
    "- List popular Data Science Tools\n",
    "- List few examples for evaluating arithemetic expression"
   ]
  },
  {
   "cell_type": "markdown",
   "metadata": {},
   "source": [
    "## Author\n",
    "Shirsh Wardhan"
   ]
  },
  {
   "cell_type": "markdown",
   "metadata": {},
   "source": [
    "## Some of the popular languages that Data Scientists use are:\n",
    "1. Python\n",
    "2. R\n",
    "3. Matlab\n",
    "4. Scala\n",
    "5. Julia\n",
    "6. Java"
   ]
  },
  {
   "cell_type": "markdown",
   "metadata": {},
   "source": [
    "## Some of the commonly used libraries used by Data Scientists include:\n",
    "1. Pandas\n",
    "2. NumPy\n",
    "3. Scikit Learn\n",
    "4. Keras\n",
    "5. Tensor Flow\n",
    "6. Matplotlib\n",
    "7. Plotly\n",
    "8. SciPy\n",
    "9. PyTorch\n",
    "10. Weka\n",
    "11. Deeplearning4\n",
    "12. dplyr\n",
    "13. stringr\n",
    "14. ggplot\n",
    "15. caret\n",
    "16. Plotly\n",
    "17. Lattice\n",
    "18. Leaflet"
   ]
  },
  {
   "cell_type": "markdown",
   "metadata": {},
   "source": [
    "| Data Science Tools |\n",
    "| ------------------ |\n",
    "| Data Management : PostgreSql, MongoDB, Oracle |\n",
    "| Data Integration & Transformation : Aache Airflow, Apache Kafka, Kubeflow, Informatica |\n",
    "| Data Visualization : Pixie Dust, Power BI, Tableau |\n",
    "| Model Building : IBM Watson Machine Learning, Azure Machine Learning, SPSS, SAS |\n",
    "| Model Deployment : Seldon, Apache Prediction IO, TensorFlow Serving |\n",
    "| Model Monitoring & Assessment : Model DB, Prometheus, IBM AI Explainability 360 |\n",
    "| Code Asset Management : GitLab, GitHub, Bitbucket |\n",
    "| Data Asset Management : Apache Atlas, ODPi EGERIA, Kylo |"
   ]
  },
  {
   "cell_type": "markdown",
   "metadata": {},
   "source": [
    "### Below are a few examples of evaluating arithmetic expressions in Python"
   ]
  },
  {
   "cell_type": "code",
   "execution_count": 1,
   "metadata": {},
   "outputs": [
    {
     "data": {
      "text/plain": [
       "17"
      ]
     },
     "execution_count": 1,
     "metadata": {},
     "output_type": "execute_result"
    }
   ],
   "source": [
    "# This a simple arithmetic expression to mutiply then add integers\n",
    "(3*4)+5"
   ]
  },
  {
   "cell_type": "code",
   "execution_count": 2,
   "metadata": {},
   "outputs": [
    {
     "data": {
      "text/plain": [
       "3.3333333333333335"
      ]
     },
     "execution_count": 2,
     "metadata": {},
     "output_type": "execute_result"
    }
   ],
   "source": [
    "# This will convert 200 minutes to hours by diving by 60\n",
    "minutes_to_hours = 200/60\n",
    "minutes_to_hours"
   ]
  }
 ],
 "metadata": {
  "kernelspec": {
   "display_name": "Python 3",
   "language": "python",
   "name": "python3"
  },
  "language_info": {
   "codemirror_mode": {
    "name": "ipython",
    "version": 3
   },
   "file_extension": ".py",
   "mimetype": "text/x-python",
   "name": "python",
   "nbconvert_exporter": "python",
   "pygments_lexer": "ipython3",
   "version": "3.12.1"
  }
 },
 "nbformat": 4,
 "nbformat_minor": 2
}
